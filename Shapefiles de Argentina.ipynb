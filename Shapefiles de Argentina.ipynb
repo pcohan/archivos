{
  "nbformat": 4,
  "nbformat_minor": 0,
  "metadata": {
    "colab": {
      "name": "Untitled0.ipynb",
      "provenance": [],
      "authorship_tag": "ABX9TyP82/Q2oI7MZK+ggh78sMcB",
      "include_colab_link": true
    },
    "kernelspec": {
      "name": "python3",
      "display_name": "Python 3"
    }
  },
  "cells": [
    {
      "cell_type": "markdown",
      "metadata": {
        "id": "view-in-github",
        "colab_type": "text"
      },
      "source": [
        "<a href=\"https://colab.research.google.com/github/pcohan/archivos/blob/main/Shapefiles%20de%20Argentina.ipynb\" target=\"_parent\"><img src=\"https://colab.research.google.com/assets/colab-badge.svg\" alt=\"Open In Colab\"/></a>"
      ]
    },
    {
      "cell_type": "code",
      "metadata": {
        "colab": {
          "base_uri": "https://localhost:8080/"
        },
        "id": "V8Si_Vxhv349",
        "outputId": "c5ced718-257c-43ac-9e3d-8b70cb7207ec"
      },
      "source": [
        "!pip install geopandas\n",
        "import geopandas as gpd\n",
        "import pandas as pd\n",
        "import statsmodels.api as sm\n",
        "import matplotlib.pyplot as plt\n",
        "import numpy as np"
      ],
      "execution_count": 1,
      "outputs": [
        {
          "output_type": "stream",
          "text": [
            "Collecting geopandas\n",
            "\u001b[?25l  Downloading https://files.pythonhosted.org/packages/f7/a4/e66aafbefcbb717813bf3a355c8c4fc3ed04ea1dd7feb2920f2f4f868921/geopandas-0.8.1-py2.py3-none-any.whl (962kB)\n",
            "\u001b[K     |████████████████████████████████| 972kB 12.0MB/s \n",
            "\u001b[?25hCollecting fiona\n",
            "\u001b[?25l  Downloading https://files.pythonhosted.org/packages/37/94/4910fd55246c1d963727b03885ead6ef1cd3748a465f7b0239ab25dfc9a3/Fiona-1.8.18-cp36-cp36m-manylinux1_x86_64.whl (14.8MB)\n",
            "\u001b[K     |████████████████████████████████| 14.8MB 308kB/s \n",
            "\u001b[?25hRequirement already satisfied: shapely in /usr/local/lib/python3.6/dist-packages (from geopandas) (1.7.1)\n",
            "Requirement already satisfied: pandas>=0.23.0 in /usr/local/lib/python3.6/dist-packages (from geopandas) (1.1.4)\n",
            "Collecting pyproj>=2.2.0\n",
            "\u001b[?25l  Downloading https://files.pythonhosted.org/packages/e4/ab/280e80a67cfc109d15428c0ec56391fc03a65857b7727cf4e6e6f99a4204/pyproj-3.0.0.post1-cp36-cp36m-manylinux2010_x86_64.whl (6.4MB)\n",
            "\u001b[K     |████████████████████████████████| 6.5MB 44.2MB/s \n",
            "\u001b[?25hCollecting munch\n",
            "  Downloading https://files.pythonhosted.org/packages/cc/ab/85d8da5c9a45e072301beb37ad7f833cd344e04c817d97e0cc75681d248f/munch-2.5.0-py2.py3-none-any.whl\n",
            "Collecting click-plugins>=1.0\n",
            "  Downloading https://files.pythonhosted.org/packages/e9/da/824b92d9942f4e472702488857914bdd50f73021efea15b4cad9aca8ecef/click_plugins-1.1.1-py2.py3-none-any.whl\n",
            "Requirement already satisfied: certifi in /usr/local/lib/python3.6/dist-packages (from fiona->geopandas) (2020.11.8)\n",
            "Requirement already satisfied: click<8,>=4.0 in /usr/local/lib/python3.6/dist-packages (from fiona->geopandas) (7.1.2)\n",
            "Requirement already satisfied: attrs>=17 in /usr/local/lib/python3.6/dist-packages (from fiona->geopandas) (20.3.0)\n",
            "Requirement already satisfied: six>=1.7 in /usr/local/lib/python3.6/dist-packages (from fiona->geopandas) (1.15.0)\n",
            "Collecting cligj>=0.5\n",
            "  Downloading https://files.pythonhosted.org/packages/42/1e/947eadf10d6804bf276eb8a038bd5307996dceaaa41cfd21b7a15ec62f5d/cligj-0.7.1-py3-none-any.whl\n",
            "Requirement already satisfied: python-dateutil>=2.7.3 in /usr/local/lib/python3.6/dist-packages (from pandas>=0.23.0->geopandas) (2.8.1)\n",
            "Requirement already satisfied: numpy>=1.15.4 in /usr/local/lib/python3.6/dist-packages (from pandas>=0.23.0->geopandas) (1.18.5)\n",
            "Requirement already satisfied: pytz>=2017.2 in /usr/local/lib/python3.6/dist-packages (from pandas>=0.23.0->geopandas) (2018.9)\n",
            "Installing collected packages: munch, click-plugins, cligj, fiona, pyproj, geopandas\n",
            "Successfully installed click-plugins-1.1.1 cligj-0.7.1 fiona-1.8.18 geopandas-0.8.1 munch-2.5.0 pyproj-3.0.0.post1\n"
          ],
          "name": "stdout"
        },
        {
          "output_type": "stream",
          "text": [
            "/usr/local/lib/python3.6/dist-packages/statsmodels/tools/_testing.py:19: FutureWarning: pandas.util.testing is deprecated. Use the functions in the public API at pandas.testing instead.\n",
            "  import pandas.util.testing as tm\n"
          ],
          "name": "stderr"
        }
      ]
    },
    {
      "cell_type": "code",
      "metadata": {
        "id": "EDKrZrW-tV-k"
      },
      "source": [
        "#comunas=gpd.GeoDataFrame.from_file(\"https://github.com/rpasquini/econometrics_and_causality/blob/master/comunas.zip?raw=true\")\n",
        "\n",
        "departamentos=gpd.GeoDataFrame.from_file(\"https://github.com/pcohan/archivos/blob/main/ign_departamento.zip?raw=true\")"
      ],
      "execution_count": 8,
      "outputs": []
    },
    {
      "cell_type": "code",
      "metadata": {
        "colab": {
          "base_uri": "https://localhost:8080/",
          "height": 282
        },
        "id": "Ysl7IWcbwGdK",
        "outputId": "fffdee1e-4329-4459-a605-b7c83564cf95"
      },
      "source": [
        "departamentos.plot()"
      ],
      "execution_count": 9,
      "outputs": [
        {
          "output_type": "execute_result",
          "data": {
            "text/plain": [
              "<matplotlib.axes._subplots.AxesSubplot at 0x7f7782d4b470>"
            ]
          },
          "metadata": {
            "tags": []
          },
          "execution_count": 9
        },
        {
          "output_type": "display_data",
          "data": {
            "image/png": "[encoded data removed]",
            "text/plain": [
              "<Figure size 432x288 with 1 Axes>"
            ]
          },
          "metadata": {
            "tags": [],
            "needs_background": "light"
          }
        }
      ]
    },
    {
      "cell_type": "code",
      "metadata": {
        "colab": {
          "base_uri": "https://localhost:8080/",
          "height": 204
        },
        "id": "SOEllLtpyb4d",
        "outputId": "56b2cd56-f0b3-4e26-890d-dbb56703ef3d"
      },
      "source": [
        "departamentos.head()"
      ],
      "execution_count": 11,
      "outputs": [
        {
          "output_type": "execute_result",
          "data": {
            "text/html": [
              "<div>\n",
              "<style scoped>\n",
              "    .dataframe tbody tr th:only-of-type {\n",
              "        vertical-align: middle;\n",
              "    }\n",
              "\n",
              "    .dataframe tbody tr th {\n",
              "        vertical-align: top;\n",
              "    }\n",
              "\n",
              "    .dataframe thead th {\n",
              "        text-align: right;\n",
              "    }\n",
              "</style>\n",
              "<table border=\"1\" class=\"dataframe\">\n",
              "  <thead>\n",
              "    <tr style=\"text-align: right;\">\n",
              "      <th></th>\n",
              "      <th>OBJECTID</th>\n",
              "      <th>Entidad</th>\n",
              "      <th>Objeto</th>\n",
              "      <th>FNA</th>\n",
              "      <th>GNA</th>\n",
              "      <th>NAM</th>\n",
              "      <th>SAG</th>\n",
              "      <th>FDC</th>\n",
              "      <th>IN1</th>\n",
              "      <th>SHAPE_STAr</th>\n",
              "      <th>SHAPE_STLe</th>\n",
              "      <th>geometry</th>\n",
              "    </tr>\n",
              "  </thead>\n",
              "  <tbody>\n",
              "    <tr>\n",
              "      <th>0</th>\n",
              "      <td>4388</td>\n",
              "      <td>0</td>\n",
              "      <td>Departamento</td>\n",
              "      <td>Departamento Islas del Atlántico Sur</td>\n",
              "      <td>Departamento</td>\n",
              "      <td>Islas del Atlántico Sur</td>\n",
              "      <td>IGN</td>\n",
              "      <td>None</td>\n",
              "      <td>94021</td>\n",
              "      <td>2.200323</td>\n",
              "      <td>113.414744</td>\n",
              "      <td>MULTIPOLYGON Z (((-58.96740 -51.23382 0.00000,...</td>\n",
              "    </tr>\n",
              "    <tr>\n",
              "      <th>1</th>\n",
              "      <td>4389</td>\n",
              "      <td>0</td>\n",
              "      <td>Departamento</td>\n",
              "      <td>Departamento Concordia</td>\n",
              "      <td>Departamento</td>\n",
              "      <td>Concordia</td>\n",
              "      <td>ATER - Direc. de Catastro</td>\n",
              "      <td>None</td>\n",
              "      <td>30015</td>\n",
              "      <td>0.310471</td>\n",
              "      <td>4.031163</td>\n",
              "      <td>POLYGON Z ((-58.38761 -30.82889 0.00000, -58.3...</td>\n",
              "    </tr>\n",
              "    <tr>\n",
              "      <th>2</th>\n",
              "      <td>4390</td>\n",
              "      <td>0</td>\n",
              "      <td>Departamento</td>\n",
              "      <td>Departamento Federal</td>\n",
              "      <td>Departamento</td>\n",
              "      <td>Federal</td>\n",
              "      <td>ATER - Direc. de Catastro</td>\n",
              "      <td>None</td>\n",
              "      <td>30035</td>\n",
              "      <td>0.492214</td>\n",
              "      <td>5.517325</td>\n",
              "      <td>POLYGON Z ((-58.96265 -30.60344 0.00000, -58.9...</td>\n",
              "    </tr>\n",
              "    <tr>\n",
              "      <th>3</th>\n",
              "      <td>4391</td>\n",
              "      <td>0</td>\n",
              "      <td>Departamento</td>\n",
              "      <td>Departamento Gualeguaychú</td>\n",
              "      <td>Departamento</td>\n",
              "      <td>Gualeguaychú</td>\n",
              "      <td>ATER - Direc. de Catastro</td>\n",
              "      <td>None</td>\n",
              "      <td>30056</td>\n",
              "      <td>0.726821</td>\n",
              "      <td>5.318422</td>\n",
              "      <td>POLYGON Z ((-59.06579 -32.48615 0.00000, -59.0...</td>\n",
              "    </tr>\n",
              "    <tr>\n",
              "      <th>4</th>\n",
              "      <td>4392</td>\n",
              "      <td>0</td>\n",
              "      <td>Departamento</td>\n",
              "      <td>Departamento Islas del Ibicuy</td>\n",
              "      <td>Departamento</td>\n",
              "      <td>Islas del Ibicuy</td>\n",
              "      <td>ATER - Direc. de Catastro</td>\n",
              "      <td>None</td>\n",
              "      <td>30063</td>\n",
              "      <td>0.479076</td>\n",
              "      <td>4.213641</td>\n",
              "      <td>POLYGON Z ((-58.43841 -33.51761 0.00000, -58.4...</td>\n",
              "    </tr>\n",
              "  </tbody>\n",
              "</table>\n",
              "</div>"
            ],
            "text/plain": [
              "   OBJECTID  ...                                           geometry\n",
              "0      4388  ...  MULTIPOLYGON Z (((-58.96740 -51.23382 0.00000,...\n",
              "1      4389  ...  POLYGON Z ((-58.38761 -30.82889 0.00000, -58.3...\n",
              "2      4390  ...  POLYGON Z ((-58.96265 -30.60344 0.00000, -58.9...\n",
              "3      4391  ...  POLYGON Z ((-59.06579 -32.48615 0.00000, -59.0...\n",
              "4      4392  ...  POLYGON Z ((-58.43841 -33.51761 0.00000, -58.4...\n",
              "\n",
              "[5 rows x 12 columns]"
            ]
          },
          "metadata": {
            "tags": []
          },
          "execution_count": 11
        }
      ]
    }
  ]
}